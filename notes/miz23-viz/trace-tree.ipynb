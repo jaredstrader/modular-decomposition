{
 "cells": [
  {
   "cell_type": "code",
   "execution_count": null,
   "id": "31011d15-ce5f-492b-b052-e387878af6a5",
   "metadata": {},
   "outputs": [],
   "source": [
    "from pathlib import Path\n",
    "import re\n",
    "import networkx as nx\n",
    "import matplotlib.pyplot as plt"
   ]
  },
  {
   "cell_type": "code",
   "execution_count": null,
   "id": "c78e3738-a352-482c-88fd-bdc3a34d46c4",
   "metadata": {},
   "outputs": [],
   "source": [
    "result = []\n",
    "with Path(\"out.txt\").open() as f:\n",
    "    for l in f:\n",
    "        m = re.match(\".*main problem \\((\\d+)\\): \\[.*\\]#(.*)\", l)\n",
    "        if m:\n",
    "            result.append((int(m.group(1)), m.group(2)))\n",
    "result.append((\"result\", \"(P(U(J(8)(9))(7)(6)(P(17)(U(16)(J(14)(15)))(J(10)(11)(12))(13)))(5)(J(U(2)(1))(3))(4)(0))\"))"
   ]
  },
  {
   "cell_type": "code",
   "execution_count": null,
   "id": "9970fb85-72ae-4875-8764-131b3be8ffd6",
   "metadata": {},
   "outputs": [],
   "source": [
    "def convert_to_graph(t):\n",
    "    i = 0\n",
    "    graph = nx.DiGraph()\n",
    "    stack = []\n",
    "    u = 0\n",
    "    while i < len(t):\n",
    "        if t[i] == \"(\":\n",
    "            j = i+1\n",
    "            while j < len(t) and not (t[j] == \"(\" or t[j] == \")\"):\n",
    "                j += 1\n",
    "            stack.append((u, t[i+1:j]))\n",
    "            #print(f\"new node {stack[-1]}\")\n",
    "            graph.add_node(u, label=t[i+1:j])\n",
    "            u += 1\n",
    "            i = j\n",
    "        elif t[i] == \")\":\n",
    "            (b, _) = stack.pop()\n",
    "            if not stack: break\n",
    "            (a, _) = stack[-1]\n",
    "            #print(f\"new edge {(a, b)}\")\n",
    "            graph.add_edge(a, b)\n",
    "            i += 1\n",
    "        else:\n",
    "            #print(t[i])\n",
    "            i += 1\n",
    "    return graph"
   ]
  },
  {
   "cell_type": "code",
   "execution_count": null,
   "id": "57dd9c37-faf9-4835-9d01-7f356b29563c",
   "metadata": {
    "scrolled": true
   },
   "outputs": [],
   "source": [
    "for i, t in result:\n",
    "    graph = convert_to_graph(t)\n",
    "\n",
    "    pos = nx.nx_pydot.graphviz_layout(graph, prog=\"dot\")\n",
    "    nx.draw(graph, pos=pos, labels=dict(graph.nodes(data=\"label\")), node_color=\"lightblue\")\n",
    "    plt.savefig(f\"{i}.png\")\n",
    "    plt.show()"
   ]
  },
  {
   "cell_type": "code",
   "execution_count": null,
   "id": "c8dcb59d-c448-4f5f-aa5d-1ba49f516a8c",
   "metadata": {},
   "outputs": [],
   "source": [
    "import networkx as nx\n",
    "heads = [1, 1, 1, 2, 2, 2, 2, 2, 3, 3, 3, 3, 3, 4, 4, 4, 4, 4, 4, 5,\n",
    "          5, 5, 5, 5, 6, 6, 6, 6, 6, 6, 6, 6, 7, 7, 7, 7, 7, 7, 7, 7,\n",
    "          8, 8, 8, 8, 8, 9, 9, 9, 9, 9, 10, 10, 10, 10, 11, 11, 11, 11]\n",
    "tails = [2, 3, 4, 1, 4, 5, 6, 7, 1, 4, 5, 6, 7, 1, 2, 3, 5, 6, 7, 2,\n",
    "         3, 4, 6, 7, 2, 3, 4, 5, 8, 9, 10, 11, 2, 3, 4, 5, 8, 9, 10,\n",
    "         11, 6, 7, 9, 10, 11, 6, 7, 8, 10, 11, 6, 7, 8, 9, 6, 7, 8, 9]\n",
    "G = nx.Graph(zip(heads, tails))\n",
    "\n",
    "\n",
    "pos = {\n",
    "    1: (-10, 0), 4: (30, 0), 2: (50, 40), 5: (80, 60), 3: (50, -40),\n",
    "    6: (100, 20), 7: (100, -20), 9: (180, 20), 11: (180, -20), 8: (150, 40), 10: (150, -40)}\n",
    "\n",
    "fig, ax = plt.subplots(figsize=(6, 4))\n",
    "nx.draw(G, pos=pos, with_labels=True, node_color=\"lightblue\", ax=ax)\n",
    "plt.savefig(\"00-graph.svg\")\n",
    "plt.show()"
   ]
  },
  {
   "cell_type": "code",
   "execution_count": null,
   "id": "c8aa5c32-7ceb-4b1c-93e6-07800a660700",
   "metadata": {},
   "outputs": [],
   "source": [
    "mdt = nx.DiGraph()\n",
    "for u in range(1, 12):\n",
    "    mdt.add_node(u, label=f\"{u}\")\n",
    "for i, label in zip(range(12, 100), [\"Prime\", \"Series\", \"Parallel\", \"Series\", \"Parallel\", \"Parallel\"]):\n",
    "    mdt.add_node(i, label=label)\n",
    "for u, v in [(12, 1), (12, 13), (12, 5), (12, 14), (12, 15), (13, 16), (13, 4), (14, 6), (14, 7), (15, 8), (15, 9), (15, 17), (16, 2), (16, 3), (17, 10), (17, 11)]:\n",
    "    mdt.add_edge(u, v)\n",
    "\n",
    "pos = {12: (0, 0), 1: (-20, -10), 13: (-10, -10), 5: (0, -10), 14: (10, -10), 15: (20, -10), 16: (-15, -20), 4: (-20/3, -20), 6: (0, -20), 7: (20/3, -20), 8: (40/3, -20), 9: (60/3, -20), 17: (80/3, -20), 2: (-20, -30), 3: (-10, -30), 10: (80/3-5, -30), 11: (80/3+5, -30)}\n",
    "#{1 ((2 3) 4) 5 (6 7) (8 9 (10 11))}\n",
    "fig, ax = plt.subplots(figsize=(6, 4))\n",
    "nx.draw(mdt, pos=pos, labels=dict(mdt.nodes(data='label')), node_color=\"bisque\", ax=ax)\n",
    "plt.savefig(\"00-mdt.svg\")\n",
    "plt.show()"
   ]
  }
 ],
 "metadata": {
  "kernelspec": {
   "display_name": "Python 3 (ipykernel)",
   "language": "python",
   "name": "python3"
  },
  "language_info": {
   "codemirror_mode": {
    "name": "ipython",
    "version": 3
   },
   "file_extension": ".py",
   "mimetype": "text/x-python",
   "name": "python",
   "nbconvert_exporter": "python",
   "pygments_lexer": "ipython3",
   "version": "3.10.12"
  }
 },
 "nbformat": 4,
 "nbformat_minor": 5
}
