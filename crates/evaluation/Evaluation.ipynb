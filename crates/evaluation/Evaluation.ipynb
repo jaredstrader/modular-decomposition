{
 "cells": [
  {
   "cell_type": "code",
   "execution_count": null,
   "id": "1a7a4090-1097-46c9-8034-01faf4c33405",
   "metadata": {},
   "outputs": [],
   "source": [
    "import numpy as np\n",
    "import seaborn as sns\n",
    "import pandas as pd\n",
    "from pathlib import Path\n",
    "import json\n",
    "import matplotlib.pyplot as plt"
   ]
  },
  {
   "cell_type": "code",
   "execution_count": null,
   "id": "a1742f21-c359-4ee3-a38b-4c4303dea519",
   "metadata": {},
   "outputs": [],
   "source": [
    "sns.set_theme(context=\"paper\", style=\"white\")"
   ]
  },
  {
   "cell_type": "code",
   "execution_count": null,
   "id": "73158062-f645-4e9b-9104-8a8850fb5509",
   "metadata": {},
   "outputs": [],
   "source": [
    "!python3 scripts/combine_data.py"
   ]
  },
  {
   "cell_type": "code",
   "execution_count": null,
   "id": "3daf29a1-0d99-4be0-9e3e-86e8ce05460d",
   "metadata": {},
   "outputs": [],
   "source": [
    "!mkdir -p figures"
   ]
  },
  {
   "cell_type": "code",
   "execution_count": null,
   "id": "2ce88784-56ab-49d1-b79c-875abbde17cc",
   "metadata": {},
   "outputs": [],
   "source": [
    "df = pd.read_csv(\"./data/experiments.csv\")\n",
    "df[\"n+m\"] = df[\"n\"] + df[\"m\"]\n",
    "df = df[df[\"n+m\"] != 0]\n",
    "df[\"log(n+m)\"] = np.log(df[\"n+m\"])\n",
    "df[\"time/m\"] = df[\"time\"] / df[\"m\"]\n",
    "df[\"time/n\"] = df[\"time\"] / df[\"n\"]\n",
    "df[\"time/(n+m)\"] = df[\"time\"] / df[\"n+m\"]\n",
    "for variable in (\"time\", \"time/m\", \"time/n\", \"time/(n+m)\"):\n",
    "    for unit, factor in zip((\"s\", \"ms\", \"μs\", \"ns\"), (10**0, 10**3, 10**6, 10**9)):\n",
    "        df[f\"{variable} [{unit}]\"] = factor * df[variable]\n",
    "df = df.sort_values([\"n+m\", \"name\"])\n",
    "def map_algo(algo):\n",
    "    return {\"kar19-rust\": \"fracture\",\n",
    "            \"ms00\": \"skeleton\",\n",
    "            \"miz23-rust\": \"linear\",\n",
    "            \"miz23-cpp\": \"linear (ref)\",\n",
    "            \"linear-ref\": \"linear (ref)\",\n",
    "           }.get(algo, algo)\n",
    "df[\"algo\"] = df[\"algo\"].apply(map_algo)\n",
    "df[\"algo\"] = pd.Categorical(df[\"algo\"], categories=[\"linear (ref)\", \"linear\", \"skeleton\",\"fracture\"], ordered=True)\n",
    "\n",
    "def map_dataset(dataset):\n",
    "    return {\"cograph-uni-deg\": \"cograph\"}.get(dataset, dataset)\n",
    "df[\"dataset\"] = df[\"dataset\"].apply(map_dataset)"
   ]
  },
  {
   "cell_type": "code",
   "execution_count": null,
   "id": "d303b653-e243-40d5-bc5f-ce0cc10f4dac",
   "metadata": {},
   "outputs": [],
   "source": [
    "data = df.copy()\n",
    "data = data.drop_duplicates(\"name\")\n",
    "data.groupby(\"dataset\")[\"time/(n+m) [ns]\"].agg([\"count\", \"mean\"])"
   ]
  },
  {
   "cell_type": "code",
   "execution_count": null,
   "id": "fa7e01da-ffaf-4b1c-a7de-ac182949679c",
   "metadata": {},
   "outputs": [],
   "source": [
    "data = df.copy()\n",
    "data.groupby([\"dataset\", \"algo\"], observed=True)[\"time/(n+m) [ns]\"].mean()"
   ]
  },
  {
   "cell_type": "code",
   "execution_count": null,
   "id": "be71523c-ebb3-4546-aecd-3f41e98b3d5e",
   "metadata": {},
   "outputs": [],
   "source": [
    "grouped_dfs = list(df.groupby(\"algo\", observed=False))"
   ]
  },
  {
   "cell_type": "code",
   "execution_count": null,
   "id": "78816326-811c-4e33-8eba-5047b9ff068f",
   "metadata": {},
   "outputs": [],
   "source": [
    "for scale in ('log', 'linear'):\n",
    "    fig, axes = plt.subplots(ncols=3, figsize=(9,3.5), sharey=True)\n",
    "    names = [a for a, b in grouped_dfs]\n",
    "    x = grouped_dfs[3][1][\"time/(n+m) [ns]\"].copy()\n",
    "    c = (grouped_dfs[0][1][\"log(n+m)\"]).copy()\n",
    "    # xm = t.max() * 0.11\n",
    "    xm = 1.6 * 10**3\n",
    "    ym = xm * 10\n",
    "    if scale == 'log':\n",
    "        ym = xm = xm * 10\n",
    "    l = np.linspace(0, xm, 10000)\n",
    "    for (i, ax) in zip((0, 1, 2), axes):\n",
    "        if scale == 'log':\n",
    "            ax.set(aspect='equal')\n",
    "        ax.set(xlabel=f\"{names[3]} $t/(n+m)$ [ns]\", title=names[i])\n",
    "        ax.grid(True)\n",
    "        ax.set_axisbelow(True)\n",
    "        ax.set(xscale=scale, yscale=scale)\n",
    "        y = grouped_dfs[i][1][\"time/(n+m) [ns]\"].copy()\n",
    "        x[x > xm] = xm * 0.99\n",
    "        y[y > ym] = ym * 0.99\n",
    "        ax.set(xlim=(0.5, xm), ylim=(0.5, ym))\n",
    "        ax.scatter(x, y, c=c, s=3, label=\"instance\", rasterized=True)\n",
    "        ax.plot(l, l, c='k', lw=1, label=r\"$y = x$\")\n",
    "        ax.plot(l, 2*l, c='k', lw=1, ls='-.', label=r\"$y = 2 x$\")\n",
    "        ax.plot(l, 10*l, c='k', lw=1, ls='--', label=r\"$y = 10 x$\")\n",
    "    axes[0].set(ylabel=\"algo $t/(n+m)$ [ns]\")\n",
    "    axes[0].legend(loc='upper left')\n",
    "    fig.tight_layout(w_pad=1.12)\n",
    "    plt.savefig(f\"figures/scatter-all-normalized-{scale}-log.pdf\", dpi=300)\n",
    "    plt.show()"
   ]
  },
  {
   "cell_type": "code",
   "execution_count": null,
   "id": "91d85e45-b221-4da0-8b6d-2f289f40d725",
   "metadata": {},
   "outputs": [],
   "source": [
    "for xscale in ('log', 'linear'):\n",
    "    fig, axes = plt.subplots(ncols=3, figsize=(9,3.5), sharey=True)\n",
    "    names = [a for a, b in grouped_dfs]\n",
    "    x = grouped_dfs[3][1][\"time [s]\"].copy()\n",
    "    c = (grouped_dfs[0][1][\"log(n+m)\"]).copy()\n",
    "    l = np.linspace(0, xm, 10000)\n",
    "    for (i, ax) in zip((0, 1, 2), axes):\n",
    "        ax.set(xlabel=f\"{names[3]} [s]\")\n",
    "        ax.grid(True)\n",
    "        ax.set_axisbelow(True)\n",
    "        #if scale == \"linear\":\n",
    "        #    ax.set(ylim=(0, 10))\n",
    "        ax.set(xscale=xscale)\n",
    "        ax.set(yscale=\"log\")\n",
    "        ax.set(title=names[i])\n",
    "        #ax.set(ylim=(-1, 15))\n",
    "        y = grouped_dfs[i][1][\"time [s]\"].copy()\n",
    "        ax.scatter(x, y.values / x.values, c=c, s=3, rasterized=True)\n",
    "        ax.axhline(1, ls=\"-\", c=\"k\", lw=1, label=r\"$y = x$\")\n",
    "        ax.axhline(3, ls=\"-.\", c=\"k\", lw=1, label=r\"$y = 3x$\")\n",
    "        ax.axhline(10, ls=\"--\", c=\"k\", lw=1, label=r\"$y = 10x$\")\n",
    "    axes[0].set(ylabel=f\"algo / {names[3]}\")\n",
    "    axes[-1].legend()\n",
    "    fig.tight_layout(w_pad=1.12)\n",
    "    plt.savefig(f\"figures/scatter-all-relative-{xscale}-log.png\", dpi=300)\n",
    "    plt.show()"
   ]
  },
  {
   "cell_type": "markdown",
   "id": "43a5f47b-e32c-4f05-9c04-cd9d20adc686",
   "metadata": {},
   "source": [
    "## Overview, dataset scatter"
   ]
  },
  {
   "cell_type": "code",
   "execution_count": null,
   "id": "49d54108-6435-4ff6-9535-36660b4b9f3a",
   "metadata": {},
   "outputs": [],
   "source": [
    "data = df.copy()\n",
    "data = data[(data[\"dataset\"].isin((\"real\", \"pace2023-exact\", \"pace2023-heuristic\", \"cograph\", \"gnm\", \"girg\", \"girg-deg-scaling\")))]\n",
    "data = data.sort_values(\"dataset\", ascending=False)\n",
    "\n",
    "palette = [c for i, c in enumerate(sns.color_palette(\"tab20c\", 8)) if i != 3]\n",
    "grid = sns.FacetGrid(data, col=\"algo\", hue=\"dataset\", palette=palette, col_wrap=2, margin_titles=True, height=2.5, legend_out=True)\n",
    "grid.map(sns.scatterplot, \"n+m\", \"time/(n+m) [μs]\", s=4, edgecolor=None, rasterized=True)\n",
    "grid.set(xscale=\"log\", ylim=(-0.1, 2.6))\n",
    "grid.set_titles(\"{col_name}\")\n",
    "grid.add_legend(title=\"Dataset\", markerscale=3, fontsize=\"xx-small\")\n",
    "for ax in grid.axes:\n",
    "    ax.grid(True)\n",
    "grid.tight_layout()\n",
    "sns.despine(left=True, bottom=True)\n",
    "#plt.savefig(\"figures/all-scatter.pdf\", dpi=300)\n",
    "plt.show()"
   ]
  },
  {
   "cell_type": "code",
   "execution_count": null,
   "id": "b1546163-c62b-4932-8591-1ea24ad84483",
   "metadata": {},
   "outputs": [],
   "source": [
    "data[\"out_of_figure\"] = data[\"time/(n+m) [μs]\"] > 2.5\n",
    "data.groupby([\"algo\"], observed=False)[\"out_of_figure\"].agg([\"sum\", \"mean\", \"count\"])"
   ]
  },
  {
   "cell_type": "markdown",
   "id": "6287648b-f8a0-465f-8779-dc91b0181589",
   "metadata": {},
   "source": [
    "# Overview, dataset boxenplot"
   ]
  },
  {
   "cell_type": "code",
   "execution_count": null,
   "id": "2a97b755-4fe3-40f7-bc3a-2c82996817fc",
   "metadata": {},
   "outputs": [],
   "source": [
    "datasets_ = [\n",
    "    [\"real\", \"pace2023\\nexact\", \"pace2023\\nheuristic\", \"cograph\", \"gnm\", \"girg\", \"girg\\ndeg-scaling\"],\n",
    "    [\"empty\", \"path\", \"cycle\", \"complete\"]\n",
    "]\n",
    "for yscale, width, i, datasets in zip((\"linear\", \"log\"), (6, 4), (0, 1), datasets_):\n",
    "    data = df.copy()\n",
    "    data.loc[data[\"dataset\"] == \"pace2023-exact\", \"dataset\"] = \"pace2023\\nexact\"\n",
    "    data.loc[data[\"dataset\"] == \"pace2023-heuristic\", \"dataset\"] = \"pace2023\\nheuristic\"\n",
    "    data.loc[data[\"dataset\"] == \"girg-deg-scaling\", \"dataset\"] = \"girg\\ndeg-scaling\"\n",
    "    data = data[data[\"dataset\"].isin(datasets)]\n",
    "    data[\"dataset\"] = pd.Categorical(data[\"dataset\"], categories=datasets, ordered=True)\n",
    "    \n",
    "    data = data.groupby([\"name\", \"dataset\", \"algo\"], observed=False)[[\"time\"]].mean()\n",
    "    best = data.groupby([\"name\", \"dataset\"], observed=False)[\"time\"].min().rename(\"best\")\n",
    "    data = pd.merge(data, best, left_on=[\"name\", \"dataset\"], right_index=True, how=\"left\")\n",
    "    data[\"time/best\"] = data[\"time\"] / data[\"best\"]\n",
    "    data = data.reset_index()\n",
    "    \n",
    "    fig, ax = plt.subplots(figsize=(width, 2.5))\n",
    "    ax.set(yscale=yscale)\n",
    "    if yscale == \"linear\":\n",
    "        ax.set(ylim=(0, 15))\n",
    "    ax.tick_params(axis='x', which='major', labelsize=8)\n",
    "    ax.grid(True)\n",
    "    ax.set_axisbelow(True)\n",
    "    ax.axhline(1, ls=\"--\", c=\"k\", lw=1, alpha=0.2)\n",
    "    sns.boxenplot(x=\"dataset\", y=\"time/best\", hue=\"algo\", data=data, ax=ax)\n",
    "    ax.set(xlabel=None)\n",
    "    sns.despine(left=True, trim=True)\n",
    "    ax.legend(bbox_to_anchor=(1, 1), loc=\"upper left\", title=\"Algorithm\", frameon=False)\n",
    "    fig.tight_layout()\n",
    "    plt.savefig(f\"figures/datasets-{i}.pdf\", dpi=300)\n",
    "    plt.show()"
   ]
  },
  {
   "cell_type": "code",
   "execution_count": null,
   "id": "66e57d96-00f0-4576-903d-cc7e0a46d469",
   "metadata": {},
   "outputs": [],
   "source": [
    "data = df.copy()\n",
    "data = data[data[\"dataset\"].isin([\"real\", \"pace2023-exact\", \"pace2023-heuristic\"])]\n",
    "data = data.groupby([\"name\", \"dataset\", \"algo\"], observed=False)[[\"time\"]].mean()\n",
    "best = data.groupby([\"name\", \"dataset\"], observed=False)[\"time\"].min().rename(\"best\")\n",
    "data = pd.merge(data, best, left_on=[\"name\", \"dataset\"], right_index=True, how=\"left\")\n",
    "data[\"time/best\"] = data[\"time\"] / data[\"best\"]\n",
    "data.groupby([\"dataset\", \"algo\"], observed=False)[\"time/best\"].mean()"
   ]
  },
  {
   "cell_type": "markdown",
   "id": "e944b2c6-585e-456f-b431-a8c4e80a6012",
   "metadata": {},
   "source": [
    "# Cograph scaling"
   ]
  },
  {
   "cell_type": "code",
   "execution_count": null,
   "id": "dd3e5914-79e9-4355-a1e4-11a69f80334c",
   "metadata": {},
   "outputs": [],
   "source": [
    "data = df.copy()\n",
    "data = data[data[\"dataset\"] == \"cograph\"]\n",
    "\n",
    "data[\"inner nodes\"] = data[\"num_inner\"]\n",
    "data[\"cograph_params\"] = data[\"name\"].str.split('_').str[1].str.split('-')\n",
    "data[\"a\"] = data[\"cograph_params\"].str[1].str[2:].astype(int)\n",
    "data[\"b\"] = data[\"cograph_params\"].str[2].str[2:].astype(int)\n",
    "data[\"r\"] = data[\"cograph_params\"].str[3].str[2:]\n",
    "\n",
    "data[\"p\"] = data[\"cograph_params\"].str[1:4].str.join(' ')\n",
    "\n",
    "a = 2\n",
    "b = 8\n",
    "data = data[(data[\"a\"] == a) & (data[\"b\"] == b)]\n",
    "\n",
    "fig, axes = plt.subplots(figsize=(6, 3.5), nrows=2, ncols=4, sharey=True, sharex=True)\n",
    "for axes_row, r in zip(axes, (\"series\", \"parallel\")):\n",
    "    for ax, (algo, grouped_data) in zip(axes_row, data[data[\"r\"] == r].groupby(\"algo\", observed=True)):\n",
    "        ax.set(xscale=\"log\")\n",
    "        ax.set(ylim=(0.0, 400))\n",
    "        ax.set(title=algo)\n",
    "        ax.grid(True)\n",
    "        ax.set_axisbelow(True)\n",
    "        sns.scatterplot(x=\"n+m\", y=\"time/(n+m) [ns]\", hue=\"n\", data=grouped_data, edgecolor=None, palette=\"viridis\", s=6, ax=ax, rasterized=True)\n",
    "        ax.set(ylabel=f\"{r}\\ntime/(n+m) [ns]\")\n",
    "for ax in axes[1]:\n",
    "    ax.set(title=None)\n",
    "for ax in axes.flatten():\n",
    "    ax.legend([],[], frameon=False)\n",
    "axes[0][-1].legend(bbox_to_anchor=(1, 1), loc=\"upper left\", markerscale=2, frameon=False, title=\"n\")\n",
    "sns.despine(left=True)\n",
    "fig.tight_layout()\n",
    "plt.savefig(\"figures/cographs-scaling.pdf\", dpi=300)\n",
    "plt.show()"
   ]
  },
  {
   "cell_type": "markdown",
   "id": "ec79c0a6-1037-4f1b-a569-7e254bfe384e",
   "metadata": {},
   "source": [
    "# Girg deg scaling"
   ]
  },
  {
   "cell_type": "code",
   "execution_count": null,
   "id": "ab398ce7-9d72-4ab0-a3dc-dffa8f953b1c",
   "metadata": {},
   "outputs": [],
   "source": [
    "data = df.copy()\n",
    "data = data[data[\"dataset\"] == \"girg-deg-scaling\"]\n",
    "\n",
    "data[\"m_bucket\"] = 0\n",
    "data[\"n+m_bucket\"] = 0\n",
    "for m in range(150000, 600000+1, 50000):\n",
    "    data.loc[(data[\"m\"] - m).abs() < 10000, \"m_bucket\"] = m\n",
    "    data.loc[(data[\"m\"] - m).abs() < 10000, \"n+m_bucket\"] = 50000 + m\n",
    "\n",
    "fig, axes = plt.subplots(figsize=(6, 2.5), ncols=2)\n",
    "axes[0].set(ylim=(0, 9))\n",
    "axes[1].set(ylim=(0, 1.25))\n",
    "for ax, (n, grouped_data) in zip(axes, data.groupby(\"n\")):\n",
    "    ax.grid(True)\n",
    "    ax.tick_params(axis='x', which='major', bottom=True, labelsize=6)\n",
    "    sns.scatterplot(x=\"n+m\", y=\"time/(n+m) [μs]\", hue=\"algo\", style=\"algo\", data=data, ax=ax, s=10, rasterized=True)\n",
    "    sns.lineplot(x=\"n+m_bucket\", y=\"time/(n+m) [μs]\", errorbar=(\"pi\", 50), hue=\"algo\", style=\"algo\", data=data, ax=ax)#, s=10, rasterized=True)\n",
    "    ax.legend([], [], frameon=False)\n",
    "axes[1].set(ylabel=None)\n",
    "ax.legend(bbox_to_anchor=(1.0, 1.0), frameon=False, markerscale=2, title=\"Algorithm\")\n",
    "sns.despine(left=True, trim=True)\n",
    "fig.tight_layout()\n",
    "plt.savefig(\"figures/girg-deg-scaling.pdf\", dpi=300)\n",
    "plt.show()"
   ]
  },
  {
   "cell_type": "code",
   "execution_count": null,
   "id": "4ee467b6-8ef7-4747-9cca-2e0ca87943e8",
   "metadata": {},
   "outputs": [],
   "source": [
    "data = df.copy()\n",
    "data = data[data[\"dataset\"] == \"girg\"]\n",
    "\n",
    "\n",
    "qs = np.quantile(data[\"n+m\"].values, np.linspace(0, 1, 21))\n",
    "data[\"n+m_bucket\"] = 0.0\n",
    "for i in range(qs.shape[0] - 1):\n",
    "    data.loc[(qs[i] <= data[\"n+m\"]) & (data[\"n+m\"] <= qs[i+1]), \"n+m_bucket\"] = qs[i] #(qs[i+1] + qs[i]) / 2\n",
    "\n",
    "fig, axes = plt.subplots(figsize=(6, 2.5), ncols=2)\n",
    "axes[0].set(ylim=(0, 6))\n",
    "axes[1].set(ylim=(0, 2))\n",
    "for ax, (n, grouped_data) in zip(axes, data.groupby(\"n\")):\n",
    "    ax.grid(True)\n",
    "    ax.tick_params(axis='x', which='major', bottom=True, labelsize=6)\n",
    "    sns.scatterplot(x=\"n+m\", y=\"time/(n+m) [μs]\", hue=\"algo\", style=\"algo\", data=data, ax=ax, s=10, rasterized=True)\n",
    "    sns.lineplot(x=\"n+m_bucket\", y=\"time/(n+m) [μs]\", errorbar=(\"pi\", 50), hue=\"algo\", style=\"algo\", data=data, ax=ax)#, s=10, rasterized=True)\n",
    "    ax.legend([], [], frameon=False)\n",
    "axes[1].set(ylabel=None)\n",
    "ax.legend(bbox_to_anchor=(1.0, 1.0), frameon=False, markerscale=2, title=\"Algorithm\")\n",
    "sns.despine(left=True, trim=True)\n",
    "fig.tight_layout()\n",
    "plt.show()"
   ]
  },
  {
   "cell_type": "markdown",
   "id": "6969b204-1770-4462-9ad9-91d7a292fbcc",
   "metadata": {},
   "source": [
    "## $G(n, m)$ scaling for fixed n\n",
    "$G(n, m), n=c, O(n+m\\log n) = O(m)$"
   ]
  },
  {
   "cell_type": "code",
   "execution_count": null,
   "id": "18139e28-66a6-4dd4-a064-1af7582c2b55",
   "metadata": {},
   "outputs": [],
   "source": [
    "data = df[(df[\"dataset\"].isin((\"gnm\",))) & (df[\"m\"] > 0)]\n",
    "fig, axes = plt.subplots(figsize=(6, 3), ncols=2, sharey=True)\n",
    "for ax, (n, grouped_data) in zip(axes, data.groupby(\"n\")):\n",
    "    l = grouped_data.loc[(grouped_data[\"num_prime\"] == 1) & (grouped_data[\"num_parallel\"] == 0) & (grouped_data[\"num_series\"] == 0), \"m\"].min()\n",
    "    min_m = grouped_data[\"m\"].min()\n",
    "    max_m = grouped_data[\"m\"].max()\n",
    "    low = f\"2^{{{int(np.log2(min_m))}}}\" if min_m > 0 else \"0\"\n",
    "    ax.set(title=f\"$n=2^{{{int(np.log2(n))}}}$, $m = {low} \\dots 2^{{{int(np.log2(max_m))}}}$\")\n",
    "    ax.grid(True)\n",
    "    ax.set(ylim=(0, 3))\n",
    "    ax.tick_params(axis='x', which='major', bottom=True, labelsize=10)\n",
    "    sns.scatterplot(x=\"m\", y=\"time/(n+m) [μs]\", hue=\"algo\", data=grouped_data, ax=ax, rasterized=True, style=\"algo\")#s=5, edgecolor=None)\n",
    "    ax.axvline(n, ls=\"-\", c=\"k\", alpha=0.5, zorder=0)\n",
    "    ax.axvline(l, ls=\"--\", c=\"k\", alpha=0.5, zorder=0)\n",
    "axes[0].legend([], [], frameon=False)\n",
    "axes[-1].legend(bbox_to_anchor=(1, 1), loc=\"upper left\", frameon=False, title=\"Algorithm\")\n",
    "sns.despine(left=True, trim=True)\n",
    "fig.tight_layout()\n",
    "fig.subplots_adjust(hspace=0.05, wspace=0.1)\n",
    "plt.savefig(\"figures/gnm-scaling-m.pdf\", dpi=300)\n",
    "plt.show()"
   ]
  },
  {
   "cell_type": "markdown",
   "id": "206b9303-6d51-4d6c-884a-44a7fdc432ab",
   "metadata": {},
   "source": [
    "## $G(n, m)$ scaling for fixed multiple number of edges\n",
    "\n",
    "$G(n, m), m=8n, O(n + m\\log n) = O(n \\log n)$"
   ]
  },
  {
   "cell_type": "code",
   "execution_count": null,
   "id": "84d21bfe-cf18-41d7-a93b-0baf600d3201",
   "metadata": {},
   "outputs": [],
   "source": [
    "data  = df[df[\"dataset\"] == \"gnm-m=8n\"].copy()\n",
    "\n",
    "fig, axes = plt.subplots(figsize=(6, 3), nrows=2, ncols=2, height_ratios=[0.5, 4], sharey=\"row\", sharex=\"col\")\n",
    "\n",
    "y = \"time/(n+m) [μs]\"\n",
    "for ax_col in axes.T:\n",
    "    sns.scatterplot(x=\"n+m\", y=y, hue=\"algo\", data=data[data[y] > 3.25], ax=ax_col[0], rasterized=True, style=\"algo\")#s=5, edgecolor=None)\n",
    "    sns.scatterplot(x=\"n+m\", y=y, hue=\"algo\", data=data[data[y] <= 3.25], ax=ax_col[1], rasterized=True, style=\"algo\")#s=5, edgecolor=None)\n",
    "    #sns.lineplot(x=\"n+m\", y=y, hue=\"algo\", data=data, ax=ax_col[0], rasterized=True, style=\"algo\")\n",
    "    #sns.lineplot(x=\"n+m\", y=y, hue=\"algo\", data=data, ax=ax_col[1], rasterized=True, style=\"algo\")\n",
    "\n",
    "d = 0.75\n",
    "kwargs = dict(marker=[(-1, -d), (1, d)], markersize=12,\n",
    "              linestyle=\"none\", color='k', mec='k', mew=1, clip_on=False)\n",
    "\n",
    "for ax in axes[0]:\n",
    "    ax.set_ylim(3.25, 26)\n",
    "    ax.set(ylabel=None)\n",
    "    ax.spines.bottom.set(alpha=0.5, ls=\"--\")\n",
    "    ax.xaxis.tick_top()\n",
    "    ax.tick_params(labeltop=False)\n",
    "    ax.plot([0, 1], [0, 0], transform=ax.transAxes, **kwargs)\n",
    "\n",
    "for ax in axes[1]:\n",
    "    ax.set_ylim(0, 3.25)\n",
    "    ax.spines.top.set(alpha=0.5, ls=\"--\")\n",
    "    ax.xaxis.tick_bottom()\n",
    "    ax.plot([0, 1], [1, 1], transform=ax.transAxes, **kwargs)\n",
    "\n",
    "\n",
    "for ax in axes.flatten():\n",
    "    ax.set(xlim=(10**5, 10**7))\n",
    "    ax.grid(True)\n",
    "    ax.set_axisbelow(True)\n",
    "    ax.legend([], [], frameon=False)\n",
    "\n",
    "axes[1][1].set(xscale=\"log\")\n",
    "axes[0][1].legend(bbox_to_anchor=(1, 1), loc=\"upper left\", frameon=False, title=\"Algorithm\")\n",
    "\n",
    "fig.tight_layout()\n",
    "fig.subplots_adjust(hspace=0.05, wspace=0.15)\n",
    "plt.savefig(\"figures/gnm-scaling-n-m.pdf\", dpi=300)\n",
    "plt.show()"
   ]
  },
  {
   "cell_type": "markdown",
   "id": "d71985d0-2a3f-4f46-8c62-11db9899e15d",
   "metadata": {},
   "source": [
    "# Simple graphs"
   ]
  },
  {
   "cell_type": "code",
   "execution_count": null,
   "id": "62a397f2-ca66-4eac-8c41-263a660154f2",
   "metadata": {},
   "outputs": [],
   "source": [
    "fig, axes = plt.subplots(figsize=(6, 3), ncols=3, sharey=True)\n",
    "for ax, dataset, title in zip(axes, (\"empty\", \"path\", \"cycle\"), (\"Empty graphs $E_n$\", \"Path graphs $P_n$\", \"Cycle graphs $C_n$\")):\n",
    "    data = df[df[\"dataset\"] == dataset]\n",
    "    ax.set(title=title)\n",
    "    ax.set(ylim=(0, 3.5), axisbelow=True)\n",
    "    ax.tick_params(axis='x', which='major', bottom=True, labelsize=8)\n",
    "    ax.grid(True)\n",
    "    sns.scatterplot(x=\"n+m\", y=\"time/(n+m) [μs]\", hue=\"algo\", edgecolor=None, s=2, data=data, ax=ax, rasterized=True)\n",
    "    ax.legend([],[], frameon=False)\n",
    "axes[1].legend(bbox_to_anchor=(1.0, 1.0), markerscale=4, title=\"Algorithm\")\n",
    "sns.despine(left=True)\n",
    "fig.tight_layout()\n",
    "plt.savefig(\"figures/empty-path-cycle.pdf\", dpi=300)\n",
    "plt.show()"
   ]
  },
  {
   "cell_type": "markdown",
   "id": "605bdb3a-1b34-45a7-931d-66df1276c486",
   "metadata": {},
   "source": [
    "# Anaylsis of $G(n, m)$ model"
   ]
  },
  {
   "cell_type": "code",
   "execution_count": null,
   "id": "af30f324-dbe9-4914-9764-d45e93403a55",
   "metadata": {},
   "outputs": [],
   "source": [
    "import networkx as nx\n",
    "from tqdm.contrib.concurrent import process_map\n",
    "from itertools import product\n",
    "from subprocess import run\n",
    "from tempfile import NamedTemporaryFile, TemporaryDirectory\n",
    "\n",
    "import sys  \n",
    "sys.path.insert(1, '../scripts')\n",
    "import analyze\n",
    "\n",
    "def write_metis_to_file(f, graph: nx.Graph):\n",
    "    graph = nx.convert_node_labels_to_integers(graph)\n",
    "    f.write(f\"{graph.number_of_nodes()} {graph.number_of_edges()}\\n\".encode())\n",
    "    for u in graph.nodes:\n",
    "        f.write((\" \".join(str(v+1) for v in graph[u]) + \"\\n\").encode())\n",
    "    f.flush()\n",
    "    f.seek(0)\n",
    "\n",
    "def modular_decomposition(graph: nx.Graph):\n",
    "    with NamedTemporaryFile() as input_file, TemporaryDirectory() as dir:\n",
    "        write_metis_to_file(input_file, graph)\n",
    "        output = Path(dir) / \"out\"\n",
    "        cmd = [\"../target/release/md\", \"--input-type\", \"metis\", \"--input\", input_file.name, \"--algo\", \"fracture\", \"--output\", output]\n",
    "        out = run(cmd, capture_output=True)\n",
    "        out.check_returncode()\n",
    "        return analyze.analyze_tree(output, only_header=False, timeout=10)\n",
    "\n",
    "def generate_data(params):\n",
    "    n, m, seed = params\n",
    "    m = int(m)\n",
    "    graph = nx.gnm_random_graph(n, m, seed=seed)\n",
    "    res = modular_decomposition(graph)\n",
    "    return [dict(n=n, m=m, seed=seed, kind=kind, num=num) for kind, num in zip((\"prime\", \"series\", \"parallel\"), map(int, res.split(\",\")[5:8]))]"
   ]
  },
  {
   "cell_type": "code",
   "execution_count": null,
   "id": "11b6cbbe-9824-47c6-a39d-9e3601782aa3",
   "metadata": {},
   "outputs": [],
   "source": [
    "if False:\n",
    "    params = [(n, m, seed) for n, repeats in [(2**10, 40), (2**16, 10)] for m, seed in product(np.linspace(0, 3 * 2**10, 81), range(repeats))]\n",
    "    rows = process_map(generate_data, params, chunksize=16)\n",
    "else:\n",
    "    rows = []"
   ]
  },
  {
   "cell_type": "code",
   "execution_count": null,
   "id": "c302fa6e-3eb7-4cdf-9e93-699a7e7c4922",
   "metadata": {},
   "outputs": [],
   "source": [
    "data = pd.DataFrame([row for group in rows for row in group])\n",
    "data = data[data[\"n\"].isin([2**10, 2**16])]\n",
    "data[\"m/n\"] = data[\"m\"] / data[\"n\"]\n",
    "data[\"num/n\"] = data[\"num\"] / data[\"n\"]\n",
    "\n",
    "fig, ax = plt.subplots(figsize=(6, 2.5))\n",
    "sns.lineplot(x=\"m/n\", y=\"num/n\", hue=\"kind\", style=\"n\", rasterized=True, data=data, ax=ax)\n",
    "ax.legend(bbox_to_anchor=(1, 1), loc=\"upper left\", frameon=False)\n",
    "sns.despine()\n",
    "plt.savefig(\"figures/gnm-module-distribution.pdf\", dpi=300)\n",
    "plt.show()"
   ]
  }
 ],
 "metadata": {
  "kernelspec": {
   "display_name": "Python 3 (ipykernel)",
   "language": "python",
   "name": "python3"
  },
  "language_info": {
   "codemirror_mode": {
    "name": "ipython",
    "version": 3
   },
   "file_extension": ".py",
   "mimetype": "text/x-python",
   "name": "python",
   "nbconvert_exporter": "python",
   "pygments_lexer": "ipython3",
   "version": "3.10.12"
  }
 },
 "nbformat": 4,
 "nbformat_minor": 5
}
